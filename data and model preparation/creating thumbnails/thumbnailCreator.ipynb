{
 "cells": [
  {
   "cell_type": "code",
   "execution_count": 1,
   "id": "2582afc8",
   "metadata": {},
   "outputs": [],
   "source": [
    "from PIL import Image\n",
    "import os\n",
    "import PIL\n",
    "import glob"
   ]
  },
  {
   "cell_type": "code",
   "execution_count": 2,
   "id": "7015c68a",
   "metadata": {},
   "outputs": [],
   "source": [
    "#THUMBNAILS\n",
    "\n",
    "images = [file for file in os.listdir() if file.endswith(('jpeg', 'png', 'jpg'))]\n",
    "for image in images:\n",
    "    img = Image.open(image)\n",
    "    img.thumbnail((80,80))\n",
    "    img.save(\"Result Thumbnails/thumbnail\"+image, optimize=True, quality=40)"
   ]
  },
  {
   "cell_type": "code",
   "execution_count": null,
   "id": "6e812c92",
   "metadata": {},
   "outputs": [],
   "source": []
  }
 ],
 "metadata": {
  "kernelspec": {
   "display_name": "Python 3 (ipykernel)",
   "language": "python",
   "name": "python3"
  },
  "language_info": {
   "codemirror_mode": {
    "name": "ipython",
    "version": 3
   },
   "file_extension": ".py",
   "mimetype": "text/x-python",
   "name": "python",
   "nbconvert_exporter": "python",
   "pygments_lexer": "ipython3",
   "version": "3.8.11"
  }
 },
 "nbformat": 4,
 "nbformat_minor": 5
}
