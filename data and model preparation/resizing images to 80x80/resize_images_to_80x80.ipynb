{
 "cells": [
  {
   "cell_type": "code",
   "execution_count": 1,
   "id": "2add1bf1",
   "metadata": {},
   "outputs": [],
   "source": [
    "from PIL import Image\n",
    "import os\n",
    "import PIL\n",
    "import glob"
   ]
  },
  {
   "cell_type": "code",
   "execution_count": 3,
   "id": "e8ce4c20",
   "metadata": {},
   "outputs": [],
   "source": [
    "#resize images in bulk with fiex height and width\n",
    "fixed_height = 80\n",
    "width_size = 80\n",
    "images = [file for file in os.listdir() if file.endswith(('jpeg', 'png', 'jpg'))]\n",
    "for image in images:\n",
    "    img = Image.open(image)\n",
    "    image1 = img.resize((width_size, fixed_height), PIL.Image.NEAREST)\n",
    "    image1.save(\"HumanHead/\"+image, optimize=True, quality=40)"
   ]
  },
  {
   "cell_type": "code",
   "execution_count": null,
   "id": "6aa527cd",
   "metadata": {},
   "outputs": [],
   "source": []
  }
 ],
 "metadata": {
  "kernelspec": {
   "display_name": "Python 3 (ipykernel)",
   "language": "python",
   "name": "python3"
  },
  "language_info": {
   "codemirror_mode": {
    "name": "ipython",
    "version": 3
   },
   "file_extension": ".py",
   "mimetype": "text/x-python",
   "name": "python",
   "nbconvert_exporter": "python",
   "pygments_lexer": "ipython3",
   "version": "3.8.11"
  }
 },
 "nbformat": 4,
 "nbformat_minor": 5
}
