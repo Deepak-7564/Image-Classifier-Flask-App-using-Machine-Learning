{
 "cells": [
  {
   "cell_type": "code",
   "execution_count": 1,
   "id": "4ff4b5d9",
   "metadata": {},
   "outputs": [],
   "source": [
    "import numpy as np\n",
    "import pandas as pd\n",
    "import scipy\n",
    "import sklearn\n",
    "from sklearn.pipeline import make_pipeline\n",
    "import os\n",
    "\n",
    "#sklearn\n",
    "import skimage\n",
    "import skimage.color\n",
    "import skimage.transform\n",
    "import skimage.feature\n",
    "import skimage.io"
   ]
  },
  {
   "cell_type": "code",
   "execution_count": 2,
   "id": "5ddabcc5",
   "metadata": {},
   "outputs": [],
   "source": [
    "from sklearn.base import BaseEstimator, TransformerMixin\n",
    "\n",
    "class rgb2gray_transform(BaseEstimator, TransformerMixin):\n",
    "    import skimage.color\n",
    "    def __init__(self):\n",
    "        pass\n",
    "    \n",
    "    def fit(self,X,y=None):\n",
    "        return self\n",
    "    \n",
    "    def transform(self, X,y=None):\n",
    "        return np.array([skimage.color.rgb2gray(x) for x in X])\n",
    "    \n",
    "    class hogtransformer(BaseEstimator,TransformerMixin):\n",
    "        import skimage.feature\n",
    "        def __init__(self,orientations=9,pixels_per_cell=(8,8),cells_per_block=(3,3),):\n",
    "            self.orientations = orientations\n",
    "            self.pixels_per_cell = pixels_per_cell\n",
    "            self.cells_per_block = cells_per_block\n",
    "            \n",
    "            def fit(self,X,y=None):\n",
    "                return self\n",
    "            \n",
    "            def transform(self,X,y=None):\n",
    "                def local_hog(img):\n",
    "                    hog_feature = skimage.feature.hog(img,orientations=self.orientations,\n",
    "                                                     pixels_per_cell =self.pixel_per_cell,\n",
    "                                                     cells_per_block=self.cells_per_block)\n",
    "                    \n",
    "                    return hog_features\n",
    "                \n",
    "                hfeatures = np.array([local_hog(x) for x in X])\n",
    "                return hfeatures"
   ]
  },
  {
   "cell_type": "code",
   "execution_count": 3,
   "id": "dd25ff94",
   "metadata": {},
   "outputs": [],
   "source": [
    "import matplotlib.pyplot as plt\n",
    "%matplotlib inline"
   ]
  },
  {
   "cell_type": "code",
   "execution_count": 4,
   "id": "3597bb61",
   "metadata": {},
   "outputs": [],
   "source": [
    "#pipeline\n",
    "image = skimage.io.imread('eagle.jpg')\n",
    "#transform image into 80x80\n",
    "image_resize = skimage.transform.resize(image,(80,80))\n",
    "image_scale = 255*image_resize\n",
    "image_transform = image_scale.astype(np.uint8)\n",
    "#rgb to gray\n",
    "gray = skimage.color.rgb2gray(image_transform)\n",
    "#hog feature\n",
    "feature_vector = skimage.feature.hog(gray,\n",
    "                                     orientations=10,\n",
    "                                     pixels_per_cell=(8,8),cells_per_block=(2,2))\n",
    "\n"
   ]
  },
  {
   "cell_type": "code",
   "execution_count": 5,
   "id": "51d17820",
   "metadata": {},
   "outputs": [
    {
     "data": {
      "text/plain": [
       "array([0.20979654, 0.02552764, 0.25555313, ..., 0.04803068, 0.0377739 ,\n",
       "       0.00724294])"
      ]
     },
     "execution_count": 5,
     "metadata": {},
     "output_type": "execute_result"
    }
   ],
   "source": [
    "feature_vector"
   ]
  },
  {
   "cell_type": "code",
   "execution_count": 6,
   "id": "671ace30",
   "metadata": {},
   "outputs": [],
   "source": [
    "#Load the model\n",
    "import pickle\n",
    "model = pickle.load(open('pickle files/dsa_image_classification_sgd.pickle','rb'))\n",
    "scaler = pickle.load(open('pickle files/dsa_scaler.pickle','rb'))"
   ]
  },
  {
   "cell_type": "code",
   "execution_count": 7,
   "id": "1eb6e07e",
   "metadata": {},
   "outputs": [
    {
     "data": {
      "text/plain": [
       "{'alpha': 0.01,\n",
       " 'average': False,\n",
       " 'class_weight': None,\n",
       " 'early_stopping': True,\n",
       " 'epsilon': 0.1,\n",
       " 'eta0': 0.0,\n",
       " 'fit_intercept': True,\n",
       " 'l1_ratio': 0.15,\n",
       " 'learning_rate': 'optimal',\n",
       " 'loss': 'hinge',\n",
       " 'max_iter': 1000,\n",
       " 'n_iter_no_change': 5,\n",
       " 'n_jobs': None,\n",
       " 'penalty': 'l2',\n",
       " 'power_t': 0.5,\n",
       " 'random_state': None,\n",
       " 'shuffle': True,\n",
       " 'tol': 0.001,\n",
       " 'validation_fraction': 0.1,\n",
       " 'verbose': 0,\n",
       " 'warm_start': False}"
      ]
     },
     "execution_count": 7,
     "metadata": {},
     "output_type": "execute_result"
    }
   ],
   "source": [
    "model.get_params()"
   ]
  },
  {
   "cell_type": "code",
   "execution_count": 8,
   "id": "4fa42142",
   "metadata": {},
   "outputs": [
    {
     "data": {
      "text/plain": [
       "(3240,)"
      ]
     },
     "execution_count": 8,
     "metadata": {},
     "output_type": "execute_result"
    }
   ],
   "source": [
    "feature_vector.shape"
   ]
  },
  {
   "cell_type": "code",
   "execution_count": 9,
   "id": "ead07578",
   "metadata": {},
   "outputs": [],
   "source": [
    "scalex = scaler.transform(feature_vector.reshape(1,-1))\n",
    "result = model.predict(scalex)"
   ]
  },
  {
   "cell_type": "code",
   "execution_count": 10,
   "id": "3cad8746",
   "metadata": {},
   "outputs": [
    {
     "data": {
      "text/plain": [
       "array(['eagle'], dtype='<U8')"
      ]
     },
     "execution_count": 10,
     "metadata": {},
     "output_type": "execute_result"
    }
   ],
   "source": [
    "result"
   ]
  },
  {
   "cell_type": "code",
   "execution_count": 11,
   "id": "0f6eaeea",
   "metadata": {},
   "outputs": [],
   "source": [
    "# calculating the probablity\n",
    "decision_value = model.decision_function(scalex)"
   ]
  },
  {
   "cell_type": "code",
   "execution_count": 12,
   "id": "58c71170",
   "metadata": {},
   "outputs": [
    {
     "data": {
      "text/plain": [
       "array([[-157.9948244 , -183.58904759, -156.43787669, -133.91655294,\n",
       "        -251.85538728, -176.48080359,  -30.76382801,   -2.39757119,\n",
       "        -221.71728238, -162.49297666, -280.1622646 ,  -96.23470676,\n",
       "        -240.95076492, -215.65793981,  -69.88395928,  -82.38255775,\n",
       "        -155.07051827, -198.57400427, -178.61328944, -329.64731505]])"
      ]
     },
     "execution_count": 12,
     "metadata": {},
     "output_type": "execute_result"
    }
   ],
   "source": [
    "decision_value"
   ]
  },
  {
   "cell_type": "code",
   "execution_count": 13,
   "id": "58b729cf",
   "metadata": {},
   "outputs": [
    {
     "data": {
      "text/plain": [
       "array(['bear', 'cat', 'chicken', 'cow', 'deer', 'dog', 'duck', 'eagle',\n",
       "       'elephant', 'human', 'lion', 'monkey', 'mouse', 'natural', 'panda',\n",
       "       'pigeon', 'rabbit', 'sheep', 'tiger', 'wolf'], dtype='<U8')"
      ]
     },
     "execution_count": 13,
     "metadata": {},
     "output_type": "execute_result"
    }
   ],
   "source": [
    "model.classes_"
   ]
  },
  {
   "cell_type": "code",
   "execution_count": 14,
   "id": "22067f02",
   "metadata": {},
   "outputs": [
    {
     "data": {
      "text/plain": [
       "(1, 20)"
      ]
     },
     "execution_count": 14,
     "metadata": {},
     "output_type": "execute_result"
    }
   ],
   "source": [
    "decision_value.shape"
   ]
  },
  {
   "cell_type": "code",
   "execution_count": 15,
   "id": "1797ab27",
   "metadata": {},
   "outputs": [],
   "source": [
    "labels = model.classes_"
   ]
  },
  {
   "cell_type": "code",
   "execution_count": 16,
   "id": "08fa9cf0",
   "metadata": {},
   "outputs": [],
   "source": [
    "decision_value = decision_value.flatten()"
   ]
  },
  {
   "cell_type": "code",
   "execution_count": 17,
   "id": "264a1041",
   "metadata": {},
   "outputs": [
    {
     "data": {
      "image/png": "[encoded data removed]",
      "text/plain": [
       "<Figure size 432x288 with 1 Axes>"
      ]
     },
     "metadata": {
      "needs_background": "light"
     },
     "output_type": "display_data"
    }
   ],
   "source": [
    "plt.barh(labels,decision_value)\n",
    "plt.grid()"
   ]
  },
  {
   "cell_type": "code",
   "execution_count": 18,
   "id": "b0dcd616",
   "metadata": {},
   "outputs": [
    {
     "data": {
      "text/plain": [
       "array([0.03346503, 0.0242865 , 0.03412405, 0.04524505, 0.01032791,\n",
       "       0.02654801, 0.1647012 , 0.23496451, 0.01506456, 0.03163169,\n",
       "       0.00724486, 0.07253559, 0.01183944, 0.01625242, 0.10090038,\n",
       "       0.08627867, 0.03471352, 0.02013031, 0.02584829, 0.00389802])"
      ]
     },
     "execution_count": 18,
     "metadata": {},
     "output_type": "execute_result"
    }
   ],
   "source": [
    "# calculate z score\n",
    "z = scipy.stats.zscore(decision_value)\n",
    "prob_value = scipy.special.softmax(z)\n",
    "prob_value"
   ]
  },
  {
   "cell_type": "code",
   "execution_count": 19,
   "id": "59930d24",
   "metadata": {},
   "outputs": [
    {
     "data": {
      "image/png": "[encoded data removed]",
      "text/plain": [
       "<Figure size 432x288 with 1 Axes>"
      ]
     },
     "metadata": {
      "needs_background": "light"
     },
     "output_type": "display_data"
    }
   ],
   "source": [
    "plt.barh(labels,prob_value)\n",
    "plt.grid()"
   ]
  },
  {
   "cell_type": "code",
   "execution_count": 20,
   "id": "a629638b",
   "metadata": {},
   "outputs": [],
   "source": [
    "#top five probab;ity values\n",
    "top_5_prob_ind = prob_value.argsort()[::-1][:5]"
   ]
  },
  {
   "cell_type": "code",
   "execution_count": 21,
   "id": "61387eb7",
   "metadata": {},
   "outputs": [
    {
     "data": {
      "text/plain": [
       "array([ 7,  6, 14, 15, 11], dtype=int64)"
      ]
     },
     "execution_count": 21,
     "metadata": {},
     "output_type": "execute_result"
    }
   ],
   "source": [
    "top_5_prob_ind"
   ]
  },
  {
   "cell_type": "code",
   "execution_count": 22,
   "id": "b83d4e9f",
   "metadata": {},
   "outputs": [],
   "source": [
    "top_labels = labels[top_5_prob_ind]\n",
    "top_prob = prob_value[top_5_prob_ind]"
   ]
  },
  {
   "cell_type": "code",
   "execution_count": 23,
   "id": "a7991199",
   "metadata": {},
   "outputs": [
    {
     "data": {
      "text/plain": [
       "(array([0.23496451, 0.1647012 , 0.10090038, 0.08627867, 0.07253559]),\n",
       " array(['eagle', 'duck', 'panda', 'pigeon', 'monkey'], dtype='<U8'))"
      ]
     },
     "execution_count": 23,
     "metadata": {},
     "output_type": "execute_result"
    }
   ],
   "source": [
    "top_prob,top_labels"
   ]
  },
  {
   "cell_type": "code",
   "execution_count": 24,
   "id": "4c5873d6",
   "metadata": {},
   "outputs": [],
   "source": [
    "top_dict = dict()\n",
    "for key,val in zip(top_labels,top_prob):\n",
    "    top_dict.update({key:np.round(val,2)})"
   ]
  },
  {
   "cell_type": "code",
   "execution_count": 25,
   "id": "446adc6d",
   "metadata": {},
   "outputs": [
    {
     "data": {
      "text/plain": [
       "{'eagle': 0.23, 'duck': 0.16, 'panda': 0.1, 'pigeon': 0.09, 'monkey': 0.07}"
      ]
     },
     "execution_count": 25,
     "metadata": {},
     "output_type": "execute_result"
    }
   ],
   "source": [
    "top_dict"
   ]
  },
  {
   "cell_type": "code",
   "execution_count": 26,
   "id": "e67a09f3",
   "metadata": {},
   "outputs": [],
   "source": [
    "def pipeline_model(path,scaler_transform,model_sgd):\n",
    "    #pipeline\n",
    "    image = skimage.io.imread(path)\n",
    "    #transform image into 80x80\n",
    "    image_resize = skimage.transform.resize(image,(80,80))\n",
    "    image_scale = 255*image_resize\n",
    "    image_transform = image_scale.astype(np.uint8)\n",
    "    #rgb to gray\n",
    "    gray = skimage.color.rgb2gray(image_transform)\n",
    "    #hog feature\n",
    "    feature_vector = skimage.feature.hog(gray,\n",
    "                                     orientations=10,\n",
    "                                     pixels_per_cell=(8,8),cells_per_block=(2,2))\n",
    "\n",
    "    #Scaling\n",
    "    scalex = scaler.transform(feature_vector.reshape(1,-1))\n",
    "    result = model.predict(scalex)\n",
    "    \n",
    "    #decision function # confidence\n",
    "    decision_value = model_sgd.decision_function(scalex).flatten()\n",
    "    labels = model_sgd.classes_\n",
    "    \n",
    "    #probablity\n",
    "    z = scipy.stats.zscore(decision_value)\n",
    "    prob_value = scipy.special.softmax(z)\n",
    "    prob_value\n",
    "    \n",
    "    #top 5\n",
    "    top_5_prob_ind = prob_value.argsort()[::-1][:5]\n",
    "    top_labels = labels[top_5_prob_ind]\n",
    "    top_prob = prob_value[top_5_prob_ind]\n",
    "    #put in dictornary\n",
    "    top_dict = dict()\n",
    "    for key,val in zip(top_labels,top_prob):\n",
    "        top_dict.update({key:np.round(val,2)})\n",
    "        \n",
    "\n",
    "    return top_dict"
   ]
  },
  {
   "cell_type": "code",
   "execution_count": 27,
   "id": "dc3dd44d",
   "metadata": {},
   "outputs": [
    {
     "data": {
      "text/plain": [
       "{'eagle': 0.23, 'duck': 0.16, 'panda': 0.1, 'pigeon': 0.09, 'monkey': 0.07}"
      ]
     },
     "execution_count": 27,
     "metadata": {},
     "output_type": "execute_result"
    }
   ],
   "source": [
    "res = pipeline_model('eagle.jpg',scaler,model)\n",
    "res"
   ]
  },
  {
   "cell_type": "code",
   "execution_count": null,
   "id": "9bf83d94",
   "metadata": {},
   "outputs": [],
   "source": []
  }
 ],
 "metadata": {
  "kernelspec": {
   "display_name": "Python 3 (ipykernel)",
   "language": "python",
   "name": "python3"
  },
  "language_info": {
   "codemirror_mode": {
    "name": "ipython",
    "version": 3
   },
   "file_extension": ".py",
   "mimetype": "text/x-python",
   "name": "python",
   "nbconvert_exporter": "python",
   "pygments_lexer": "ipython3",
   "version": "3.8.11"
  }
 },
 "nbformat": 4,
 "nbformat_minor": 5
}
